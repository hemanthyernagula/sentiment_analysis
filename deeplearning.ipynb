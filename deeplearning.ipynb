{
  "nbformat": 4,
  "nbformat_minor": 0,
  "metadata": {
    "colab": {
      "name": "assignment(job).ipynb",
      "provenance": [],
      "collapsed_sections": [
        "rvMxh8_EmYoJ",
        "kVV6Ev83mYoZ"
      ]
    },
    "kernelspec": {
      "display_name": "Python 3",
      "language": "python",
      "name": "python3"
    },
    "language_info": {
      "codemirror_mode": {
        "name": "ipython",
        "version": 3
      },
      "file_extension": ".py",
      "mimetype": "text/x-python",
      "name": "python",
      "nbconvert_exporter": "python",
      "pygments_lexer": "ipython3",
      "version": "3.6.9"
    }
  },
  "cells": [
    {
      "cell_type": "markdown",
      "metadata": {
        "colab_type": "text",
        "id": "96hKQTLuK9GL"
      },
      "source": [
        "## Problem Statement:\n",
        "<p>Given a sentiment analysis data, data consist of sentences and it's sentement class, model must predict the class of the given sentence(positive or negative)</p>"
      ]
    },
    {
      "cell_type": "code",
      "metadata": {
        "colab_type": "code",
        "id": "ZBS8Fb86mYl3",
        "colab": {}
      },
      "source": [
        "import pandas as pd\n",
        "import numpy as np\n",
        "import matplotlib.pyplot as plt\n",
        "import seaborn as sns\n",
        "import re\n",
        "from nltk.corpus import stopwords\n",
        "from sklearn.model_selection import train_test_split\n",
        "from sklearn.feature_extraction.text import CountVectorizer\n",
        "from sklearn.feature_extraction.text import TfidfVectorizer\n",
        "from scipy.sparse import hstack\n",
        "from sklearn.preprocessing import Normalizer\n",
        "\n",
        "from sklearn.linear_model import LogisticRegression\n",
        "from sklearn.metrics import roc_auc_score,roc_curve,auc,confusion_matrix\n",
        "from prettytable import PrettyTable\n",
        "import nltk\n",
        "import math\n",
        "import warnings\n",
        "warnings.filterwarnings('ignore')"
      ],
      "execution_count": 0,
      "outputs": []
    },
    {
      "cell_type": "code",
      "metadata": {
        "colab_type": "code",
        "id": "28Sb70SQmYmA",
        "outputId": "1fc23757-04d6-4257-a5ac-e21a22297115",
        "colab": {
          "base_uri": "https://localhost:8080/",
          "height": 122
        }
      },
      "source": [
        "from google.colab import drive\n",
        "drive.mount('gdrive',force_remount = True)"
      ],
      "execution_count": 2,
      "outputs": [
        {
          "output_type": "stream",
          "text": [
            "Go to this URL in a browser: https://accounts.google.com/o/oauth2/auth?client_id=947318989803-6bn6qk8qdgf4n4g3pfee6491hc0brc4i.apps.googleusercontent.com&redirect_uri=urn%3aietf%3awg%3aoauth%3a2.0%3aoob&response_type=code&scope=email%20https%3a%2f%2fwww.googleapis.com%2fauth%2fdocs.test%20https%3a%2f%2fwww.googleapis.com%2fauth%2fdrive%20https%3a%2f%2fwww.googleapis.com%2fauth%2fdrive.photos.readonly%20https%3a%2f%2fwww.googleapis.com%2fauth%2fpeopleapi.readonly\n",
            "\n",
            "Enter your authorization code:\n",
            "··········\n",
            "Mounted at gdrive\n"
          ],
          "name": "stdout"
        }
      ]
    },
    {
      "cell_type": "markdown",
      "metadata": {
        "colab_type": "text",
        "id": "PcR0CdzkmYmN"
      },
      "source": [
        "## Loading Data"
      ]
    },
    {
      "cell_type": "code",
      "metadata": {
        "colab_type": "code",
        "id": "-13M6-0MmYnx",
        "outputId": "63f7535f-12e8-4f97-b36d-83dec095670e",
        "colab": {
          "base_uri": "https://localhost:8080/",
          "height": 221
        }
      },
      "source": [
        "base_dir = 'gdrive/My Drive/project/sentiment_analysis/'\n",
        "data = pd.read_csv(base_dir+'data.csv')\n",
        "print('Shape of the data:',data.shape)\n",
        "data.head()"
      ],
      "execution_count": 4,
      "outputs": [
        {
          "output_type": "stream",
          "text": [
            "Shape of the data: (8038, 2)\n"
          ],
          "name": "stdout"
        },
        {
          "output_type": "execute_result",
          "data": {
            "text/html": [
              "<div>\n",
              "<style scoped>\n",
              "    .dataframe tbody tr th:only-of-type {\n",
              "        vertical-align: middle;\n",
              "    }\n",
              "\n",
              "    .dataframe tbody tr th {\n",
              "        vertical-align: top;\n",
              "    }\n",
              "\n",
              "    .dataframe thead th {\n",
              "        text-align: right;\n",
              "    }\n",
              "</style>\n",
              "<table border=\"1\" class=\"dataframe\">\n",
              "  <thead>\n",
              "    <tr style=\"text-align: right;\">\n",
              "      <th></th>\n",
              "      <th>sentences</th>\n",
              "      <th>label</th>\n",
              "    </tr>\n",
              "  </thead>\n",
              "  <tbody>\n",
              "    <tr>\n",
              "      <th>0</th>\n",
              "      <td>A very, very, very slow-moving, aimless movie ...</td>\n",
              "      <td>0</td>\n",
              "    </tr>\n",
              "    <tr>\n",
              "      <th>1</th>\n",
              "      <td>Not sure who was more lost - the flat characte...</td>\n",
              "      <td>0</td>\n",
              "    </tr>\n",
              "    <tr>\n",
              "      <th>2</th>\n",
              "      <td>Attempting artiness with black &amp; white and cle...</td>\n",
              "      <td>0</td>\n",
              "    </tr>\n",
              "    <tr>\n",
              "      <th>3</th>\n",
              "      <td>Very little music or anything to speak of.</td>\n",
              "      <td>0</td>\n",
              "    </tr>\n",
              "    <tr>\n",
              "      <th>4</th>\n",
              "      <td>The best scene in the movie was when Gerardo i...</td>\n",
              "      <td>1</td>\n",
              "    </tr>\n",
              "  </tbody>\n",
              "</table>\n",
              "</div>"
            ],
            "text/plain": [
              "                                           sentences  label\n",
              "0  A very, very, very slow-moving, aimless movie ...      0\n",
              "1  Not sure who was more lost - the flat characte...      0\n",
              "2  Attempting artiness with black & white and cle...      0\n",
              "3        Very little music or anything to speak of.       0\n",
              "4  The best scene in the movie was when Gerardo i...      1"
            ]
          },
          "metadata": {
            "tags": []
          },
          "execution_count": 4
        }
      ]
    },
    {
      "cell_type": "code",
      "metadata": {
        "colab_type": "code",
        "id": "zMk_axeTmYn8",
        "outputId": "db082dbb-5316-4b4f-885a-f5dfddd88f6a",
        "colab": {
          "base_uri": "https://localhost:8080/",
          "height": 136
        }
      },
      "source": [
        "data.info()"
      ],
      "execution_count": 5,
      "outputs": [
        {
          "output_type": "stream",
          "text": [
            "<class 'pandas.core.frame.DataFrame'>\n",
            "RangeIndex: 8038 entries, 0 to 8037\n",
            "Data columns (total 2 columns):\n",
            "sentences    8038 non-null object\n",
            "label        8038 non-null int64\n",
            "dtypes: int64(1), object(1)\n",
            "memory usage: 125.7+ KB\n"
          ],
          "name": "stdout"
        }
      ]
    },
    {
      "cell_type": "markdown",
      "metadata": {
        "colab_type": "text",
        "id": "rvMxh8_EmYoJ"
      },
      "source": [
        "### Observations:\n",
        "<ol>\n",
        "    <li>Total number of rows in dataframe  is 7618</li>\n",
        "    <li>There are no empty or nan cells in the dataframe</li>\n",
        "    \n",
        "</ol>    "
      ]
    },
    {
      "cell_type": "markdown",
      "metadata": {
        "colab_type": "text",
        "id": "CH9k18LMmYoL"
      },
      "source": [
        "## Exploratory Data Analysis"
      ]
    },
    {
      "cell_type": "markdown",
      "metadata": {
        "colab_type": "text",
        "id": "86nhFCU-mYoN"
      },
      "source": [
        "### Checking data is balanced "
      ]
    },
    {
      "cell_type": "code",
      "metadata": {
        "colab_type": "code",
        "id": "-MrRlc86mYoP",
        "outputId": "09e0e3e1-053b-4c81-c2db-5d8ccf22bf16",
        "colab": {
          "base_uri": "https://localhost:8080/",
          "height": 68
        }
      },
      "source": [
        "data.label.value_counts()"
      ],
      "execution_count": 6,
      "outputs": [
        {
          "output_type": "execute_result",
          "data": {
            "text/plain": [
              "1    4479\n",
              "0    3559\n",
              "Name: label, dtype: int64"
            ]
          },
          "metadata": {
            "tags": []
          },
          "execution_count": 6
        }
      ]
    },
    {
      "cell_type": "markdown",
      "metadata": {
        "colab_type": "text",
        "id": "tZ27Am0zLnXE"
      },
      "source": [
        "<strong>Since this simple two class classification normal machine learning techniques are sufficient</strong>"
      ]
    },
    {
      "cell_type": "code",
      "metadata": {
        "colab_type": "code",
        "id": "WSwJLYO_mYoU",
        "outputId": "465510a4-eb3a-47bf-b27b-f9e0eee8c980",
        "colab": {
          "base_uri": "https://localhost:8080/",
          "height": 408
        }
      },
      "source": [
        "# CODE Ref:\n",
        "# https://matplotlib.org/gallery/pie_and_polar_charts/pie_and_donut_labels.html#sphx-glr-gallery-pie-and-polar-charts-pie-and-donut-labels-py\n",
        "\n",
        "\n",
        "label_counts = data['label'].value_counts()\n",
        "print(\"Number of points belong to class 1 \", label_counts[1], \", (\", (label_counts[1]/(label_counts[1]+label_counts[0]))*100,\"%)\")\n",
        "print(\"Number of points belong to class 0 \", label_counts[0], \", (\", (label_counts[0]/(label_counts[1]+label_counts[0]))*100,\"%)\")\n",
        "\n",
        "fig, ax = plt.subplots(figsize=(6, 6), subplot_kw=dict(aspect=\"equal\"))\n",
        "recipe = [\"Class 1\", \"Class 0\"]\n",
        "\n",
        "plt_data = [label_counts[1], label_counts[0]]\n",
        "\n",
        "wedges, texts = ax.pie(plt_data, wedgeprops=dict(width=0.5), startangle=-40)\n",
        "\n",
        "bbox_props = dict(boxstyle=\"square,pad=0.3\", fc=\"w\", ec=\"k\", lw=0.72)\n",
        "kw = dict(xycoords='data', textcoords='data', arrowprops=dict(arrowstyle=\"-\"),\n",
        "          bbox=bbox_props, zorder=0, va=\"center\")\n",
        "\n",
        "for i, p in enumerate(wedges):\n",
        "    ang = (p.theta2 - p.theta1)/2. + p.theta1\n",
        "    y = np.sin(np.deg2rad(ang))\n",
        "    x = np.cos(np.deg2rad(ang))\n",
        "    horizontalalignment = {-1: \"right\", 1: \"left\"}[int(np.sign(x))]\n",
        "    connectionstyle = \"angle,angleA=0,angleB={}\".format(ang)\n",
        "    kw[\"arrowprops\"].update({\"connectionstyle\": connectionstyle})\n",
        "    ax.annotate(recipe[i], xy=(x, y), xytext=(1.35*np.sign(x), 1.4*y),\n",
        "                 horizontalalignment=horizontalalignment, **kw)\n",
        "\n",
        "ax.set_title(\"Nmber of projects that are Accepted and not accepted\")\n",
        "\n",
        "plt.show()"
      ],
      "execution_count": 7,
      "outputs": [
        {
          "output_type": "stream",
          "text": [
            "Number of points belong to class 1  4479 , ( 55.72281662105001 %)\n",
            "Number of points belong to class 0  3559 , ( 44.277183378949985 %)\n"
          ],
          "name": "stdout"
        },
        {
          "output_type": "display_data",
          "data": {
            "image/png": "[encoded data removed]",
            "text/plain": [
              "<Figure size 432x432 with 1 Axes>"
            ]
          },
          "metadata": {
            "tags": []
          }
        }
      ]
    },
    {
      "cell_type": "markdown",
      "metadata": {
        "colab_type": "text",
        "id": "kVV6Ev83mYoZ"
      },
      "source": [
        "### Observations:\n",
        "<ol>\n",
        "    <li>There are 4479 class 1 data points and 3559 class 0 data points, i.e almost class 1 is  having 1000 data points high</li>\n",
        "    <li>As class 0 is having less datapoints but not considerablly less data points we can say that the data is imbalanced</li>\n",
        "    \n",
        "</ol>    "
      ]
    },
    {
      "cell_type": "markdown",
      "metadata": {
        "id": "xDAErhpgbiYU",
        "colab_type": "text"
      },
      "source": [
        "## EDA\n",
        "Performing eda on and making note of things to be cleaned and must not be cleaned"
      ]
    },
    {
      "cell_type": "markdown",
      "metadata": {
        "colab_type": "text",
        "id": "o7nq8gwomYoa"
      },
      "source": [
        "### EDA On Length Of sentences:"
      ]
    },
    {
      "cell_type": "code",
      "metadata": {
        "id": "b_dMQMAsPX2I",
        "colab_type": "code",
        "colab": {}
      },
      "source": [
        "def dist_plot(data,col,target='label'):\n",
        "        \n",
        "        '''\n",
        "          Given data and a column function plots the distribution plot for that column\n",
        "        '''\n",
        "        sns.set_style(\"whitegrid\")\n",
        "        sns.FacetGrid(data,hue='label',height=7,).map(sns.distplot,col,hist=False).add_legend()\n",
        "        \n",
        "        plt.show()"
      ],
      "execution_count": 0,
      "outputs": []
    },
    {
      "cell_type": "code",
      "metadata": {
        "colab_type": "code",
        "id": "fmVHJuhHmYoc",
        "outputId": "d7c53c15-b2ed-4e7f-dd18-b50e1e8d3d31",
        "colab": {
          "base_uri": "https://localhost:8080/",
          "height": 513
        }
      },
      "source": [
        "data['no_words'] = data.sentences.apply(lambda x:len(x.split()))\n",
        "\n",
        "dist_plot(data,'no_words')"
      ],
      "execution_count": 251,
      "outputs": [
        {
          "output_type": "display_data",
          "data": {
            "image/png": "[encoded data removed]",
            "text/plain": [
              "<Figure size 546.375x504 with 1 Axes>"
            ]
          },
          "metadata": {
            "tags": []
          }
        }
      ]
    },
    {
      "cell_type": "markdown",
      "metadata": {
        "colab_type": "text",
        "id": "M4Xe3LLvmYpG"
      },
      "source": [
        "<h1> Is length of sentences effecting the class label?--->\n",
        "Yes but very little</h1>"
      ]
    },
    {
      "cell_type": "markdown",
      "metadata": {
        "colab_type": "text",
        "id": "xwdcW2KTmYpI"
      },
      "source": [
        "### EDA On Presence Of Numbers In sentences"
      ]
    },
    {
      "cell_type": "code",
      "metadata": {
        "colab_type": "code",
        "id": "vDZNzPJKmYpU",
        "colab": {}
      },
      "source": [
        "number_presence = [0  for i in range(data.shape[0])] # assigning zeros with size of number of rows in data\n",
        "for i in range(data.shape[0]):\n",
        "     for j in data.sentences.iloc[i].split():\n",
        "            if j.isdigit():\n",
        "                number_presence[i] += 1 #adding that particular position with 1\n",
        "            "
      ],
      "execution_count": 0,
      "outputs": []
    },
    {
      "cell_type": "code",
      "metadata": {
        "colab_type": "code",
        "id": "fkbQrCgamYpZ",
        "colab": {}
      },
      "source": [
        "data['number_presence'] = number_presence\n"
      ],
      "execution_count": 0,
      "outputs": []
    },
    {
      "cell_type": "code",
      "metadata": {
        "colab_type": "code",
        "id": "FShdnR3amYpd",
        "outputId": "b1a94cd3-a3b7-4057-9cee-530f67345f17",
        "colab": {
          "base_uri": "https://localhost:8080/",
          "height": 513
        }
      },
      "source": [
        "dist_plot(data,'number_presence')\n"
      ],
      "execution_count": 252,
      "outputs": [
        {
          "output_type": "display_data",
          "data": {
            "image/png": "[encoded data removed]",
            "text/plain": [
              "<Figure size 546.375x504 with 1 Axes>"
            ]
          },
          "metadata": {
            "tags": []
          }
        }
      ]
    },
    {
      "cell_type": "code",
      "metadata": {
        "colab_type": "code",
        "id": "_97ViP6GmYpi",
        "outputId": "25e8b3a6-d0d7-46eb-cb16-121fcefe4220",
        "scrolled": true,
        "colab": {
          "base_uri": "https://localhost:8080/",
          "height": 323
        }
      },
      "source": [
        "print('Zero number of numbers in sentence ')\n",
        "print(data[data.number_presence == 0 ].label.value_counts())\n",
        "print('-'*50)\n",
        "print('One number of numbers in sentence ')\n",
        "print(data[data.number_presence == 1 ].label.value_counts())\n",
        "print('-'*50)\n",
        "print('Two number of numbers in sentence ')\n",
        "print(data[data.number_presence == 2 ].label.value_counts())\n",
        "print('-'*50)\n",
        "print('Three number of numbers in sentence ')\n",
        "print(data[data.number_presence == 3 ].label.value_counts())\n"
      ],
      "execution_count": 253,
      "outputs": [
        {
          "output_type": "stream",
          "text": [
            "Zero number of numbers in sentence \n",
            "1    4145\n",
            "0    3495\n",
            "Name: label, dtype: int64\n",
            "--------------------------------------------------\n",
            "One number of numbers in sentence \n",
            "1    327\n",
            "0     59\n",
            "Name: label, dtype: int64\n",
            "--------------------------------------------------\n",
            "Two number of numbers in sentence \n",
            "1    6\n",
            "0    5\n",
            "Name: label, dtype: int64\n",
            "--------------------------------------------------\n",
            "Three number of numbers in sentence \n",
            "1    1\n",
            "Name: label, dtype: int64\n"
          ],
          "name": "stdout"
        }
      ]
    },
    {
      "cell_type": "markdown",
      "metadata": {
        "colab_type": "text",
        "id": "gzvKVDMqmYpp"
      },
      "source": [
        "<h1> Is presence of number effecting the class label? --> Yes but, only if one number is present in the sentence then it  is effecting</h1> "
      ]
    },
    {
      "cell_type": "markdown",
      "metadata": {
        "colab_type": "text",
        "id": "TzBZ5-DtmYp2"
      },
      "source": [
        "### EDA On Presence Of Exclamation Mark And Question Mark"
      ]
    },
    {
      "cell_type": "code",
      "metadata": {
        "colab_type": "code",
        "id": "_cLyJ6VcmYp4",
        "scrolled": true,
        "colab": {}
      },
      "source": [
        "exc_presence = [0  for i in range(data.shape[0])]\n",
        "quest_presence = [0  for i in range(data.shape[0])]\n",
        "\n",
        "for i in range(data.shape[0]):\n",
        "     for j in data.sentences.iloc[i]:\n",
        "            if j == '!':\n",
        "                exc_presence[i] += 1\n",
        "            elif j == '?':\n",
        "                quest_presence[i]+=1\n",
        "data['exc_presence']   = exc_presence\n",
        "data['quest_presence'] = quest_presence"
      ],
      "execution_count": 0,
      "outputs": []
    },
    {
      "cell_type": "code",
      "metadata": {
        "colab_type": "code",
        "id": "v6jrwyoymYp9",
        "outputId": "9483b20e-c1d6-4825-d8a7-64c4408438f1",
        "scrolled": false,
        "colab": {
          "base_uri": "https://localhost:8080/",
          "height": 513
        }
      },
      "source": [
        "dist_plot(data,'exc_presence')\n"
      ],
      "execution_count": 255,
      "outputs": [
        {
          "output_type": "display_data",
          "data": {
            "image/png": "[encoded data removed]",
            "text/plain": [
              "<Figure size 546.375x504 with 1 Axes>"
            ]
          },
          "metadata": {
            "tags": []
          }
        }
      ]
    },
    {
      "cell_type": "code",
      "metadata": {
        "colab_type": "code",
        "id": "4nxQ8IB9mYqD",
        "outputId": "3ac95719-8847-401e-8753-0ae722d83d13",
        "colab": {
          "base_uri": "https://localhost:8080/",
          "height": 238
        }
      },
      "source": [
        "data.exc_presence.value_counts()"
      ],
      "execution_count": 256,
      "outputs": [
        {
          "output_type": "execute_result",
          "data": {
            "text/plain": [
              "0     6868\n",
              "1      692\n",
              "2      274\n",
              "4       89\n",
              "5       85\n",
              "3       20\n",
              "11       4\n",
              "7        2\n",
              "27       1\n",
              "25       1\n",
              "9        1\n",
              "8        1\n",
              "Name: exc_presence, dtype: int64"
            ]
          },
          "metadata": {
            "tags": []
          },
          "execution_count": 256
        }
      ]
    },
    {
      "cell_type": "code",
      "metadata": {
        "colab_type": "code",
        "id": "FaFQQ9lrmYqH",
        "outputId": "b4eb9453-1199-4ce2-e141-5dbed5a475f0",
        "colab": {
          "base_uri": "https://localhost:8080/",
          "height": 527
        }
      },
      "source": [
        "print('Zero number of exclamation marks in sentence ')\n",
        "print(data[data.exc_presence == 0 ].label.value_counts())\n",
        "print('-'*50)\n",
        "\n",
        "print('One number of exclamation marks in sentence ')\n",
        "print(data[data.exc_presence == 1 ].label.value_counts())\n",
        "print('-'*50)\n",
        "\n",
        "print('Two number of exclamation marks in sentence ')\n",
        "print(data[data.exc_presence == 2 ].label.value_counts())\n",
        "print('-'*50)\n",
        "\n",
        "print('Three number of exclamation marks in sentence ')\n",
        "print(data[data.exc_presence == 3 ].label.value_counts())\n",
        "print('-'*50)\n",
        "\n",
        "print('Four number of exclamation marks in sentence ')\n",
        "print(data[data.exc_presence == 4 ].label.value_counts())\n",
        "print('-'*50)\n",
        "\n",
        "print('Five number of exclamation marks in sentence ')\n",
        "print(data[data.exc_presence == 5 ].label.value_counts())\n",
        "print('-'*50)"
      ],
      "execution_count": 257,
      "outputs": [
        {
          "output_type": "stream",
          "text": [
            "Zero number of exclamation marks in sentence \n",
            "1    3565\n",
            "0    3303\n",
            "Name: label, dtype: int64\n",
            "--------------------------------------------------\n",
            "One number of exclamation marks in sentence \n",
            "1    541\n",
            "0    151\n",
            "Name: label, dtype: int64\n",
            "--------------------------------------------------\n",
            "Two number of exclamation marks in sentence \n",
            "1    263\n",
            "0     11\n",
            "Name: label, dtype: int64\n",
            "--------------------------------------------------\n",
            "Three number of exclamation marks in sentence \n",
            "1    16\n",
            "0     4\n",
            "Name: label, dtype: int64\n",
            "--------------------------------------------------\n",
            "Four number of exclamation marks in sentence \n",
            "1    87\n",
            "0     2\n",
            "Name: label, dtype: int64\n",
            "--------------------------------------------------\n",
            "Five number of exclamation marks in sentence \n",
            "0    82\n",
            "1     3\n",
            "Name: label, dtype: int64\n",
            "--------------------------------------------------\n"
          ],
          "name": "stdout"
        }
      ]
    },
    {
      "cell_type": "markdown",
      "metadata": {
        "colab_type": "text",
        "id": "QMCz4wAKmYqL"
      },
      "source": [
        "<h1>Is presence of exclamation mark effecting the class label? --> Yes </h1>"
      ]
    },
    {
      "cell_type": "code",
      "metadata": {
        "colab_type": "code",
        "id": "bY3ml4-vmYqM",
        "outputId": "a1cd64bc-75a5-45c2-d5e0-5eb0baaf4f28",
        "colab": {
          "base_uri": "https://localhost:8080/",
          "height": 513
        }
      },
      "source": [
        "dist_plot(data,'quest_presence')\n"
      ],
      "execution_count": 258,
      "outputs": [
        {
          "output_type": "display_data",
          "data": {
            "image/png": "[encoded data removed]",
            "text/plain": [
              "<Figure size 546.375x504 with 1 Axes>"
            ]
          },
          "metadata": {
            "tags": []
          }
        }
      ]
    },
    {
      "cell_type": "code",
      "metadata": {
        "colab_type": "code",
        "id": "kDxET8GmmYqQ",
        "outputId": "86aafeaa-058d-4242-cd70-9ddd3f4946da",
        "colab": {
          "base_uri": "https://localhost:8080/",
          "height": 85
        }
      },
      "source": [
        "data.quest_presence.value_counts()"
      ],
      "execution_count": 259,
      "outputs": [
        {
          "output_type": "execute_result",
          "data": {
            "text/plain": [
              "0    7936\n",
              "1     101\n",
              "3       1\n",
              "Name: quest_presence, dtype: int64"
            ]
          },
          "metadata": {
            "tags": []
          },
          "execution_count": 259
        }
      ]
    },
    {
      "cell_type": "code",
      "metadata": {
        "colab_type": "code",
        "id": "fqFewPMDmYqU",
        "outputId": "7f2b275f-32c2-4028-b974-490e0c7aa728",
        "colab": {
          "base_uri": "https://localhost:8080/",
          "height": 238
        }
      },
      "source": [
        "print('Zero number of question marks in sentence ')\n",
        "print(data[data.quest_presence == 0 ].label.value_counts())\n",
        "print('-'*50)\n",
        "print('One number of question marks in sentence ')\n",
        "print(data[data.quest_presence == 1 ].label.value_counts())\n",
        "print('-'*50)\n",
        "print('Three number of question marks in sentence ')\n",
        "print(data[data.quest_presence == 3 ].label.value_counts())\n"
      ],
      "execution_count": 260,
      "outputs": [
        {
          "output_type": "stream",
          "text": [
            "Zero number of question marks in sentence \n",
            "1    4474\n",
            "0    3462\n",
            "Name: label, dtype: int64\n",
            "--------------------------------------------------\n",
            "One number of question marks in sentence \n",
            "0    96\n",
            "1     5\n",
            "Name: label, dtype: int64\n",
            "--------------------------------------------------\n",
            "Three number of question marks in sentence \n",
            "0    1\n",
            "Name: label, dtype: int64\n"
          ],
          "name": "stdout"
        }
      ]
    },
    {
      "cell_type": "markdown",
      "metadata": {
        "colab_type": "text",
        "id": "5r8KJxnamYqa"
      },
      "source": [
        "<h1>Is presence of question mark effecting the class label? --> Yes but, only if one question mark is present </h1>"
      ]
    },
    {
      "cell_type": "markdown",
      "metadata": {
        "id": "2wc4TvOczv9p",
        "colab_type": "text"
      },
      "source": [
        "### EDA On Mean Word Lengths"
      ]
    },
    {
      "cell_type": "code",
      "metadata": {
        "id": "FasotfoIzvnv",
        "colab_type": "code",
        "colab": {
          "base_uri": "https://localhost:8080/",
          "height": 513
        },
        "outputId": "91fe85ba-78bd-4196-fd49-de24e05b7332"
      },
      "source": [
        "dist_plot(data,'mean_word_length')\n"
      ],
      "execution_count": 261,
      "outputs": [
        {
          "output_type": "display_data",
          "data": {
            "image/png": "[encoded data removed]",
            "text/plain": [
              "<Figure size 546.375x504 with 1 Axes>"
            ]
          },
          "metadata": {
            "tags": []
          }
        }
      ]
    },
    {
      "cell_type": "code",
      "metadata": {
        "id": "3wwqLFgmz9bz",
        "colab_type": "code",
        "colab": {
          "base_uri": "https://localhost:8080/",
          "height": 204
        },
        "outputId": "d011a99c-0385-4501-e9d5-b24f57525974"
      },
      "source": [
        "data.mean_word_length.value_counts()"
      ],
      "execution_count": 262,
      "outputs": [
        {
          "output_type": "execute_result",
          "data": {
            "text/plain": [
              "4     3995\n",
              "5     1758\n",
              "3     1165\n",
              "6      770\n",
              "7      218\n",
              "8      112\n",
              "2        8\n",
              "9        7\n",
              "10       3\n",
              "11       2\n",
              "Name: mean_word_length, dtype: int64"
            ]
          },
          "metadata": {
            "tags": []
          },
          "execution_count": 262
        }
      ]
    },
    {
      "cell_type": "code",
      "metadata": {
        "id": "Vs1Rz-720AMc",
        "colab_type": "code",
        "colab": {
          "base_uri": "https://localhost:8080/",
          "height": 527
        },
        "outputId": "9a6b85ab-1b09-49e2-ee46-3466a3736532"
      },
      "source": [
        "print('2 number of question marks in sentence ')\n",
        "print(data[data.mean_word_length == 2 ].label.value_counts())\n",
        "print('-'*50)\n",
        "print('Three number of question marks in sentence ')\n",
        "print(data[data.mean_word_length == 3 ].label.value_counts())\n",
        "print('-'*50)\n",
        "print('Four number of question marks in sentence ')\n",
        "print(data[data.mean_word_length == 4 ].label.value_counts())\n",
        "print('-'*50)\n",
        "\n",
        "print('Five number of question marks in sentence ')\n",
        "print(data[data.mean_word_length == 5 ].label.value_counts())\n",
        "print('-'*50)\n",
        "\n",
        "print('Six number of question marks in sentence ')\n",
        "print(data[data.mean_word_length == 6 ].label.value_counts())\n",
        "print('-'*50)\n",
        "\n",
        "print('Seven number of question marks in sentence ')\n",
        "print(data[data.mean_word_length == 7 ].label.value_counts())\n",
        "print('-'*50)\n"
      ],
      "execution_count": 263,
      "outputs": [
        {
          "output_type": "stream",
          "text": [
            "2 number of question marks in sentence \n",
            "1    7\n",
            "0    1\n",
            "Name: label, dtype: int64\n",
            "--------------------------------------------------\n",
            "Three number of question marks in sentence \n",
            "1    816\n",
            "0    349\n",
            "Name: label, dtype: int64\n",
            "--------------------------------------------------\n",
            "Four number of question marks in sentence \n",
            "1    2057\n",
            "0    1938\n",
            "Name: label, dtype: int64\n",
            "--------------------------------------------------\n",
            "Five number of question marks in sentence \n",
            "1    952\n",
            "0    806\n",
            "Name: label, dtype: int64\n",
            "--------------------------------------------------\n",
            "Six number of question marks in sentence \n",
            "1    441\n",
            "0    329\n",
            "Name: label, dtype: int64\n",
            "--------------------------------------------------\n",
            "Seven number of question marks in sentence \n",
            "1    111\n",
            "0    107\n",
            "Name: label, dtype: int64\n",
            "--------------------------------------------------\n"
          ],
          "name": "stdout"
        }
      ]
    },
    {
      "cell_type": "markdown",
      "metadata": {
        "id": "jakYdC470DsS",
        "colab_type": "text"
      },
      "source": [
        "<h1> Is mean word length effecting the class label--> Yes but very little</h1>"
      ]
    },
    {
      "cell_type": "markdown",
      "metadata": {
        "colab_type": "text",
        "id": "hN2Vl4HjmYqw"
      },
      "source": [
        "## Cleaning Data"
      ]
    },
    {
      "cell_type": "code",
      "metadata": {
        "colab_type": "code",
        "id": "8u0u8YEvmYqx",
        "colab": {}
      },
      "source": [
        "nltk.download('stopwords')\n",
        "stop_words = stopwords.words('english')\n"
      ],
      "execution_count": 0,
      "outputs": []
    },
    {
      "cell_type": "code",
      "metadata": {
        "colab_type": "code",
        "id": "BdlhM7kCmYrC",
        "colab": {}
      },
      "source": [
        "def  clean(sentence):\n",
        "    sentence = sentence.lower()\n",
        "    sentence = re.sub(r\"won't\", \"will not\", sentence)\n",
        "    sentence = re.sub(r\"can\\'t\", \"can not\", sentence)\n",
        "    sentence = re.sub(r\"\\'ve\", \" have\", sentence)\n",
        "    sentence = re.sub(r\"\\'m\", \" am\", sentence)\n",
        "    sentence = re.sub(r\"\\'s\", \" is\", sentence)\n",
        "    sentence = re.sub(r\"\\'d\", \" would\", sentence)\n",
        "    sentence = re.sub(r\"\\'ll\", \" will\", sentence)\n",
        "    sentence = re.sub(r\"\\'t\", \" not\", sentence)\n",
        "    sentence = re.sub(r\"n\\'t\", \" not\", sentence)\n",
        "    sentence = re.sub(r\"\\'re\", \" are\", sentence)\n",
        "    sentence=re.sub(r'\\\\r',' ',sentence)\n",
        "    sentence=re.sub(r'\\\\n',' ',sentence)\n",
        "    sentence=re.sub(r'\\\\b',' ',sentence)\n",
        "    sentence = re.sub('[^A-Za-z0-9\\!\\?]+', ' ', sentence)\n",
        "    # sentence=re.sub(r'nannan','',sentence)\n",
        "    \n",
        "    sent=[]\n",
        "    for word in sentence.split():\n",
        "        if (word not in stop_words) and (word.isalpha()):\n",
        "            sent.append(word)\n",
        "    sentence=' '.join(sent)\n",
        "    return sentence"
      ],
      "execution_count": 0,
      "outputs": []
    },
    {
      "cell_type": "code",
      "metadata": {
        "colab_type": "code",
        "id": "VriKPNRMmYrN",
        "colab": {}
      },
      "source": [
        "data['clean_sent'] = data.sentences.apply(lambda x:clean(x))"
      ],
      "execution_count": 0,
      "outputs": []
    },
    {
      "cell_type": "markdown",
      "metadata": {
        "colab_type": "text",
        "id": "8lrc5EtboemL"
      },
      "source": [
        "## Applying Deep Learning Models"
      ]
    },
    {
      "cell_type": "code",
      "metadata": {
        "id": "fwJaa4BkIZ_c",
        "colab_type": "code",
        "colab": {}
      },
      "source": [
        "import keras"
      ],
      "execution_count": 0,
      "outputs": []
    },
    {
      "cell_type": "code",
      "metadata": {
        "id": "5QTEQi47LPnq",
        "colab_type": "code",
        "colab": {}
      },
      "source": [
        "def tokenize(text):\n",
        "  tokenizer = keras.preprocessing.text.Tokenizer(\n",
        "      filters='')\n",
        "  tokenizer.fit_on_texts(text)\n",
        "\n",
        "  tensor = tokenizer.texts_to_sequences(text)\n",
        "\n",
        "  tensor = keras.preprocessing.sequence.pad_sequences(tensor,\n",
        "                                                         padding='post')\n",
        "\n",
        "  return tensor"
      ],
      "execution_count": 0,
      "outputs": []
    },
    {
      "cell_type": "code",
      "metadata": {
        "id": "L2r5vtVBVoU3",
        "colab_type": "code",
        "colab": {}
      },
      "source": [
        "final_x = tokenize(data.clean_sent)"
      ],
      "execution_count": 0,
      "outputs": []
    },
    {
      "cell_type": "code",
      "metadata": {
        "id": "HN3topj_SWTM",
        "colab_type": "code",
        "colab": {}
      },
      "source": [
        "from scipy import sparse\n",
        "from scipy.sparse import hstack,vstack\n",
        "from sklearn.preprocessing import Normalizer"
      ],
      "execution_count": 0,
      "outputs": []
    },
    {
      "cell_type": "code",
      "metadata": {
        "id": "PdAe-yR5sYi0",
        "colab_type": "code",
        "colab": {}
      },
      "source": [
        "no_words_normal = Normalizer()\n",
        "number_presence_normal = Normalizer()\n",
        "exc_presence_normal    = Normalizer()\n",
        "quest_presence_normal  = Normalizer()\n",
        "mean_word_len_normal   = Normalizer()\n"
      ],
      "execution_count": 0,
      "outputs": []
    },
    {
      "cell_type": "code",
      "metadata": {
        "id": "2dBOXu0RIe44",
        "colab_type": "code",
        "colab": {}
      },
      "source": [
        "final_x = hstack((sparse.csr_matrix(final_x),\n",
        "                  sparse.csr_matrix(no_words_normal.fit_transform(data.no_words.values.reshape(-1,1))),\n",
        "                  sparse.csr_matrix(number_presence_normal.fit_transform(data.number_presence.values.reshape(-1,1))),\n",
        "                  sparse.csr_matrix(exc_presence_normal.fit_transform(data.exc_presence.values.reshape(-1,1))),\n",
        "                  sparse.csr_matrix(quest_presence_normal.fit_transform(data.quest_presence.values.reshape(-1,1))),\n",
        "                  sparse.csr_matrix(mean_word_len_normal.fit_transform(data.mean_word_length.values.reshape(-1,1)))\n",
        "                  \n",
        "                  ))"
      ],
      "execution_count": 0,
      "outputs": []
    },
    {
      "cell_type": "markdown",
      "metadata": {
        "colab_type": "text",
        "id": "J5xAj-A5AaQw"
      },
      "source": [
        "## Splitting Data"
      ]
    },
    {
      "cell_type": "code",
      "metadata": {
        "id": "A64FtCAqUrxR",
        "colab_type": "code",
        "colab": {}
      },
      "source": [
        "from sklearn.preprocessing import MultiLabelBinarizer\n",
        "from sklearn.model_selection import train_test_split"
      ],
      "execution_count": 0,
      "outputs": []
    },
    {
      "cell_type": "code",
      "metadata": {
        "id": "tKfL5D4tx7de",
        "colab_type": "code",
        "colab": {
          "base_uri": "https://localhost:8080/",
          "height": 34
        },
        "outputId": "de86fa0e-138b-444a-dcb2-510f87c055c3"
      },
      "source": [
        "multiclass = MultiLabelBinarizer()\n",
        "multiclass.fit(data.label.apply(lambda x: 'p' if x == 1 else 'n'))\n",
        "multiclass.classes_"
      ],
      "execution_count": 277,
      "outputs": [
        {
          "output_type": "execute_result",
          "data": {
            "text/plain": [
              "array(['n', 'p'], dtype=object)"
            ]
          },
          "metadata": {
            "tags": []
          },
          "execution_count": 277
        }
      ]
    },
    {
      "cell_type": "code",
      "metadata": {
        "id": "of_ZasyWW0VV",
        "colab_type": "code",
        "outputId": "1bc709a4-60be-426d-f195-88c3cca3fbac",
        "colab": {
          "base_uri": "https://localhost:8080/",
          "height": 51
        }
      },
      "source": [
        "y = multiclass.transform(data.label.apply(lambda x: 'p' if x == 1 else 'n'))\n",
        "\n",
        "\n",
        "x_train,x_test,y_train,y_test  = train_test_split(final_x,y,test_size=0.3)\n",
        "\n",
        "\n",
        "\n",
        "print('Shape of train data:',x_train.shape)\n",
        "print('Shape of test  data:',x_test.shape)\n"
      ],
      "execution_count": 278,
      "outputs": [
        {
          "output_type": "stream",
          "text": [
            "Shape of train data: (5626, 41)\n",
            "Shape of test  data: (2412, 41)\n"
          ],
          "name": "stdout"
        }
      ]
    },
    {
      "cell_type": "markdown",
      "metadata": {
        "id": "0sfUmWxRaNno",
        "colab_type": "text"
      },
      "source": [
        "### Applying ANN"
      ]
    },
    {
      "cell_type": "code",
      "metadata": {
        "id": "1SxVTv9SN4_v",
        "colab_type": "code",
        "outputId": "ecfa264e-d09c-4609-b5fc-59c39d0d1be9",
        "colab": {
          "base_uri": "https://localhost:8080/",
          "height": 459
        }
      },
      "source": [
        "embedding_dim = 256\n",
        "units = 1024\n",
        "vocab_size = len(tokenizer_x.word_index)+1\n",
        "\n",
        "ann_model = keras.Sequential()\n",
        "ann_model.add(keras.layers.Embedding(vocab_size,embedding_dim))\n",
        "ann_model.add(keras.layers.Dense(units=30,activation='relu'))\n",
        "ann_model.add(keras.layers.BatchNormalization())\n",
        "ann_model.add(keras.layers.Dropout(0.2))\n",
        "ann_model.add(keras.layers.Dense(units=30,activation='relu'))\n",
        "ann_model.add(keras.layers.BatchNormalization())\n",
        "ann_model.add(keras.layers.Dropout(0.3))\n",
        "ann_model.add(keras.layers.Dense(units=2,activation='relu'))\n",
        "ann_model.add(keras.layers.Activation(activation='sigmoid'))\n",
        "\n",
        "ann_model.summary()"
      ],
      "execution_count": 279,
      "outputs": [
        {
          "output_type": "stream",
          "text": [
            "Model: \"sequential_18\"\n",
            "_________________________________________________________________\n",
            "Layer (type)                 Output Shape              Param #   \n",
            "=================================================================\n",
            "embedding_18 (Embedding)     (None, None, 256)         1015552   \n",
            "_________________________________________________________________\n",
            "dense_34 (Dense)             (None, None, 30)          7710      \n",
            "_________________________________________________________________\n",
            "batch_normalization_17 (Batc (None, None, 30)          120       \n",
            "_________________________________________________________________\n",
            "dropout_22 (Dropout)         (None, None, 30)          0         \n",
            "_________________________________________________________________\n",
            "dense_35 (Dense)             (None, None, 30)          930       \n",
            "_________________________________________________________________\n",
            "batch_normalization_18 (Batc (None, None, 30)          120       \n",
            "_________________________________________________________________\n",
            "dropout_23 (Dropout)         (None, None, 30)          0         \n",
            "_________________________________________________________________\n",
            "dense_36 (Dense)             (None, None, 2)           62        \n",
            "_________________________________________________________________\n",
            "activation_18 (Activation)   (None, None, 2)           0         \n",
            "=================================================================\n",
            "Total params: 1,024,494\n",
            "Trainable params: 1,024,374\n",
            "Non-trainable params: 120\n",
            "_________________________________________________________________\n"
          ],
          "name": "stdout"
        }
      ]
    },
    {
      "cell_type": "code",
      "metadata": {
        "id": "bLf9RXwec2PR",
        "colab_type": "code",
        "outputId": "c4f56167-bc26-47a7-fa14-8703c46356e8",
        "colab": {
          "base_uri": "https://localhost:8080/",
          "height": 374
        }
      },
      "source": [
        "ann_model.compile(loss='categorical_crossentropy',optimizer='adam', metrics=['accuracy'])\n",
        "ann_history = ann_model.fit(x_train,y_train.reshape(5626,1,2),epochs=10,validation_split=0.2)\n",
        " "
      ],
      "execution_count": 280,
      "outputs": [
        {
          "output_type": "stream",
          "text": [
            "Train on 4500 samples, validate on 1126 samples\n",
            "Epoch 1/10\n",
            "4500/4500 [==============================] - 7s 2ms/step - loss: 0.6795 - acc: 0.4972 - val_loss: 0.6728 - val_acc: 0.4901\n",
            "Epoch 2/10\n",
            "4500/4500 [==============================] - 3s 744us/step - loss: 0.6716 - acc: 0.5225 - val_loss: 0.6691 - val_acc: 0.5964\n",
            "Epoch 3/10\n",
            "4500/4500 [==============================] - 5s 1ms/step - loss: 0.6690 - acc: 0.5579 - val_loss: 0.6659 - val_acc: 0.5964\n",
            "Epoch 4/10\n",
            "4500/4500 [==============================] - 5s 1ms/step - loss: 0.6667 - acc: 0.5864 - val_loss: 0.6671 - val_acc: 0.5970\n",
            "Epoch 5/10\n",
            "4500/4500 [==============================] - 5s 1ms/step - loss: 0.6664 - acc: 0.5919 - val_loss: 0.6652 - val_acc: 0.5971\n",
            "Epoch 6/10\n",
            "4500/4500 [==============================] - 5s 1ms/step - loss: 0.6653 - acc: 0.5923 - val_loss: 0.6679 - val_acc: 0.5978\n",
            "Epoch 7/10\n",
            "4500/4500 [==============================] - 5s 1ms/step - loss: 0.6653 - acc: 0.5922 - val_loss: 0.6647 - val_acc: 0.5967\n",
            "Epoch 8/10\n",
            "4500/4500 [==============================] - 5s 1ms/step - loss: 0.6651 - acc: 0.5934 - val_loss: 0.6647 - val_acc: 0.5973\n",
            "Epoch 9/10\n",
            "4500/4500 [==============================] - 5s 1ms/step - loss: 0.6645 - acc: 0.5934 - val_loss: 0.6646 - val_acc: 0.5970\n",
            "Epoch 10/10\n",
            "4500/4500 [==============================] - 5s 1ms/step - loss: 0.6645 - acc: 0.5945 - val_loss: 0.6647 - val_acc: 0.5976\n"
          ],
          "name": "stdout"
        }
      ]
    },
    {
      "cell_type": "code",
      "metadata": {
        "id": "gdPI_WOCaWjd",
        "colab_type": "code",
        "colab": {
          "base_uri": "https://localhost:8080/",
          "height": 51
        },
        "outputId": "9d463b64-0f64-4d8a-eff3-0afcaab71587"
      },
      "source": [
        "ann_model.evaluate(x_test,y_test.reshape(2412,1,2))"
      ],
      "execution_count": 281,
      "outputs": [
        {
          "output_type": "stream",
          "text": [
            "2412/2412 [==============================] - 0s 200us/step\n"
          ],
          "name": "stdout"
        },
        {
          "output_type": "execute_result",
          "data": {
            "text/plain": [
              "[0.6655715801822606, 0.5947194944566755]"
            ]
          },
          "metadata": {
            "tags": []
          },
          "execution_count": 281
        }
      ]
    },
    {
      "cell_type": "markdown",
      "metadata": {
        "id": "kYYIsSHgD2V7",
        "colab_type": "text"
      },
      "source": [
        "<h2>Normal ANN is giving only 59% of accuracy</h2>"
      ]
    },
    {
      "cell_type": "markdown",
      "metadata": {
        "id": "38kppfQpadZp",
        "colab_type": "text"
      },
      "source": [
        "### Applying CNN"
      ]
    },
    {
      "cell_type": "code",
      "metadata": {
        "id": "D5anSQvNN48h",
        "colab_type": "code",
        "colab": {
          "base_uri": "https://localhost:8080/",
          "height": 357
        },
        "outputId": "b2778ce1-528e-4d2d-9032-e15926fbc525"
      },
      "source": [
        "cnn_model = keras.Sequential()\n",
        "cnn_model.add(keras.layers.Embedding(vocab_size,embedding_dim))\n",
        "cnn_model.add(keras.layers.Conv1D(10,3,activation='relu',strides=1))\n",
        "cnn_model.add(keras.layers.Dropout(0.5))\n",
        "cnn_model.add(keras.layers.MaxPool1D())\n",
        "cnn_model.add(keras.layers.Dense(2))\n",
        "cnn_model.add(keras.layers.Activation('sigmoid'))\n",
        "\n",
        "cnn_model.summary()"
      ],
      "execution_count": 282,
      "outputs": [
        {
          "output_type": "stream",
          "text": [
            "Model: \"sequential_19\"\n",
            "_________________________________________________________________\n",
            "Layer (type)                 Output Shape              Param #   \n",
            "=================================================================\n",
            "embedding_19 (Embedding)     (None, None, 256)         1015552   \n",
            "_________________________________________________________________\n",
            "conv1d_6 (Conv1D)            (None, None, 10)          7690      \n",
            "_________________________________________________________________\n",
            "dropout_24 (Dropout)         (None, None, 10)          0         \n",
            "_________________________________________________________________\n",
            "max_pooling1d_6 (MaxPooling1 (None, None, 10)          0         \n",
            "_________________________________________________________________\n",
            "dense_37 (Dense)             (None, None, 2)           22        \n",
            "_________________________________________________________________\n",
            "activation_19 (Activation)   (None, None, 2)           0         \n",
            "=================================================================\n",
            "Total params: 1,023,264\n",
            "Trainable params: 1,023,264\n",
            "Non-trainable params: 0\n",
            "_________________________________________________________________\n"
          ],
          "name": "stdout"
        }
      ]
    },
    {
      "cell_type": "code",
      "metadata": {
        "id": "JwRWv3tmSwyW",
        "colab_type": "code",
        "outputId": "fe5663db-32d6-4a51-f1af-ae9e62a6cd62",
        "colab": {
          "base_uri": "https://localhost:8080/",
          "height": 374
        }
      },
      "source": [
        "cnn_model.compile(loss='categorical_crossentropy',optimizer='adam', metrics=['accuracy'])\n",
        "cnn_history = cnn_model.fit(x_train,y_train.reshape(5626,1,2),epochs=10,validation_split=0.2)\n",
        " "
      ],
      "execution_count": 283,
      "outputs": [
        {
          "output_type": "stream",
          "text": [
            "Train on 4500 samples, validate on 1126 samples\n",
            "Epoch 1/10\n",
            "4500/4500 [==============================] - 11s 2ms/step - loss: 0.6540 - acc: 0.5977 - val_loss: 0.6146 - val_acc: 0.6245\n",
            "Epoch 2/10\n",
            "4500/4500 [==============================] - 5s 1ms/step - loss: 0.6046 - acc: 0.6215 - val_loss: 0.6035 - val_acc: 0.6276\n",
            "Epoch 3/10\n",
            "4500/4500 [==============================] - 6s 1ms/step - loss: 0.5932 - acc: 0.6267 - val_loss: 0.6038 - val_acc: 0.6291\n",
            "Epoch 4/10\n",
            "4500/4500 [==============================] - 6s 1ms/step - loss: 0.5869 - acc: 0.6293 - val_loss: 0.6051 - val_acc: 0.6285\n",
            "Epoch 5/10\n",
            "4500/4500 [==============================] - 6s 1ms/step - loss: 0.5833 - acc: 0.6307 - val_loss: 0.6080 - val_acc: 0.6287\n",
            "Epoch 6/10\n",
            "4500/4500 [==============================] - 5s 1ms/step - loss: 0.5814 - acc: 0.6315 - val_loss: 0.6119 - val_acc: 0.6284\n",
            "Epoch 7/10\n",
            "4500/4500 [==============================] - 6s 1ms/step - loss: 0.5797 - acc: 0.6317 - val_loss: 0.6135 - val_acc: 0.6289\n",
            "Epoch 8/10\n",
            "4500/4500 [==============================] - 6s 1ms/step - loss: 0.5783 - acc: 0.6319 - val_loss: 0.6178 - val_acc: 0.6289\n",
            "Epoch 9/10\n",
            "4500/4500 [==============================] - 6s 1ms/step - loss: 0.5778 - acc: 0.6324 - val_loss: 0.6206 - val_acc: 0.6285\n",
            "Epoch 10/10\n",
            "4500/4500 [==============================] - 6s 1ms/step - loss: 0.5767 - acc: 0.6328 - val_loss: 0.6231 - val_acc: 0.6286\n"
          ],
          "name": "stdout"
        }
      ]
    },
    {
      "cell_type": "code",
      "metadata": {
        "id": "AXik1GB3A5YE",
        "colab_type": "code",
        "colab": {
          "base_uri": "https://localhost:8080/",
          "height": 51
        },
        "outputId": "83688a08-7b98-48a2-8ede-08db89c76516"
      },
      "source": [
        "cnn_model.evaluate(x_test,y_test.reshape(2412,1,2))"
      ],
      "execution_count": 284,
      "outputs": [
        {
          "output_type": "stream",
          "text": [
            "2412/2412 [==============================] - 1s 257us/step\n"
          ],
          "name": "stdout"
        },
        {
          "output_type": "execute_result",
          "data": {
            "text/plain": [
              "[0.6188217474651179, 0.6288949957929836]"
            ]
          },
          "metadata": {
            "tags": []
          },
          "execution_count": 284
        }
      ]
    },
    {
      "cell_type": "markdown",
      "metadata": {
        "id": "gbECfrk9EDby",
        "colab_type": "text"
      },
      "source": [
        "<h2>CNN model  is giving 62% accuracy which is better than the ANN model</h2>"
      ]
    },
    {
      "cell_type": "markdown",
      "metadata": {
        "id": "8XkWc-WOakBV",
        "colab_type": "text"
      },
      "source": [
        "### Applying RNN"
      ]
    },
    {
      "cell_type": "code",
      "metadata": {
        "id": "CPzSZjU8ENjI",
        "colab_type": "code",
        "colab": {
          "base_uri": "https://localhost:8080/",
          "height": 289
        },
        "outputId": "5c1c4b22-57a0-4b18-c842-843df8b6eaab"
      },
      "source": [
        "rnn_model = keras.Sequential()\n",
        "rnn_model.add(keras.layers.Embedding(vocab_size,embedding_dim))\n",
        "rnn_model.add(keras.layers.GRU(5,return_sequences=True))\n",
        "\n",
        "\n",
        "rnn_model.add(keras.layers.Dense(2))\n",
        "rnn_model.add(keras.layers.Activation('sigmoid'))\n",
        "\n",
        "rnn_model.summary()"
      ],
      "execution_count": 290,
      "outputs": [
        {
          "output_type": "stream",
          "text": [
            "Model: \"sequential_21\"\n",
            "_________________________________________________________________\n",
            "Layer (type)                 Output Shape              Param #   \n",
            "=================================================================\n",
            "embedding_21 (Embedding)     (None, None, 256)         1015552   \n",
            "_________________________________________________________________\n",
            "gru_6 (GRU)                  (None, None, 5)           3930      \n",
            "_________________________________________________________________\n",
            "dense_39 (Dense)             (None, None, 2)           12        \n",
            "_________________________________________________________________\n",
            "activation_21 (Activation)   (None, None, 2)           0         \n",
            "=================================================================\n",
            "Total params: 1,019,494\n",
            "Trainable params: 1,019,494\n",
            "Non-trainable params: 0\n",
            "_________________________________________________________________\n"
          ],
          "name": "stdout"
        }
      ]
    },
    {
      "cell_type": "code",
      "metadata": {
        "id": "IkAIe71dHinc",
        "colab_type": "code",
        "outputId": "6846f7d4-1049-494b-aed8-cba099d511de",
        "colab": {
          "base_uri": "https://localhost:8080/",
          "height": 374
        }
      },
      "source": [
        "rnn_model.compile(loss='categorical_crossentropy',optimizer='adam', metrics=['accuracy'])\n",
        "rnn_history = rnn_model.fit(x_train,y_train.reshape(5626,1,2),epochs=10,validation_split=0.2,batch_size=30)\n",
        " "
      ],
      "execution_count": 291,
      "outputs": [
        {
          "output_type": "stream",
          "text": [
            "Train on 4500 samples, validate on 1126 samples\n",
            "Epoch 1/10\n",
            "4500/4500 [==============================] - 11s 2ms/step - loss: 0.6118 - acc: 0.6592 - val_loss: 0.3282 - val_acc: 0.9084\n",
            "Epoch 2/10\n",
            "4500/4500 [==============================] - 7s 1ms/step - loss: 0.2073 - acc: 0.9499 - val_loss: 0.1982 - val_acc: 0.9324\n",
            "Epoch 3/10\n",
            "4500/4500 [==============================] - 7s 1ms/step - loss: 0.1119 - acc: 0.9743 - val_loss: 0.1783 - val_acc: 0.9360\n",
            "Epoch 4/10\n",
            "4500/4500 [==============================] - 7s 2ms/step - loss: 0.0784 - acc: 0.9810 - val_loss: 0.1781 - val_acc: 0.9335\n",
            "Epoch 5/10\n",
            "4500/4500 [==============================] - 7s 2ms/step - loss: 0.0631 - acc: 0.9831 - val_loss: 0.1770 - val_acc: 0.9347\n",
            "Epoch 6/10\n",
            "4500/4500 [==============================] - 7s 1ms/step - loss: 0.0541 - acc: 0.9844 - val_loss: 0.1835 - val_acc: 0.9332\n",
            "Epoch 7/10\n",
            "4500/4500 [==============================] - 7s 1ms/step - loss: 0.0484 - acc: 0.9850 - val_loss: 0.1877 - val_acc: 0.9342\n",
            "Epoch 8/10\n",
            "4500/4500 [==============================] - 7s 1ms/step - loss: 0.0454 - acc: 0.9849 - val_loss: 0.1820 - val_acc: 0.9385\n",
            "Epoch 9/10\n",
            "4500/4500 [==============================] - 7s 1ms/step - loss: 0.0434 - acc: 0.9850 - val_loss: 0.1921 - val_acc: 0.9365\n",
            "Epoch 10/10\n",
            "4500/4500 [==============================] - 7s 1ms/step - loss: 0.0409 - acc: 0.9856 - val_loss: 0.1863 - val_acc: 0.9383\n"
          ],
          "name": "stdout"
        }
      ]
    },
    {
      "cell_type": "code",
      "metadata": {
        "id": "Z7HsqwRcB7ON",
        "colab_type": "code",
        "colab": {
          "base_uri": "https://localhost:8080/",
          "height": 51
        },
        "outputId": "246ec0d4-7baa-4626-b3e0-b99296bb8e93"
      },
      "source": [
        "rnn_model.evaluate(x_test,y_test.reshape(2412,1,2))"
      ],
      "execution_count": 292,
      "outputs": [
        {
          "output_type": "stream",
          "text": [
            "2412/2412 [==============================] - 1s 240us/step\n"
          ],
          "name": "stdout"
        },
        {
          "output_type": "execute_result",
          "data": {
            "text/plain": [
              "[0.1987335584427587, 0.9291044752396161]"
            ]
          },
          "metadata": {
            "tags": []
          },
          "execution_count": 292
        }
      ]
    },
    {
      "cell_type": "markdown",
      "metadata": {
        "id": "6REZkEWwEQFG",
        "colab_type": "text"
      },
      "source": [
        "<h2>Accuracy of the RNN model is 92% which far better than CNN and ANN models</h2>"
      ]
    },
    {
      "cell_type": "code",
      "metadata": {
        "id": "-Yzop3y4UKqT",
        "colab_type": "code",
        "colab": {}
      },
      "source": [
        " "
      ],
      "execution_count": 0,
      "outputs": []
    }
  ]
}